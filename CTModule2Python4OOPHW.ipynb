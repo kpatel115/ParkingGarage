{
 "cells": [
  {
   "cell_type": "code",
   "execution_count": 6,
   "id": "0cd9c2ce",
   "metadata": {},
   "outputs": [
    {
     "data": {
      "text/plain": [
       "'\\nYour parking garage class should have the following methods:\\n- takeTicket\\n- This should decrease the amount of tickets available by 1\\n- This should decrease the amount of parkingSpaces available by 1\\n- payForParking\\n- Display an input that waits for an amount from the user and store it in a variable\\n- If the payment variable is not empty then (meaning the ticket has been paid) -> display a message to the user that their ticket has been paid and they have 15mins to leave\\n- This should update the \"currentTicket\" dictionary key \"paid\" to True\\n-leaveGarage\\n- If the ticket has been paid, display a message of \"Thank You, have a nice day\"\\n- If the ticket has not been paid, display an input prompt for payment\\n- Once paid, display message \"Thank you, have a nice day!\"\\n- Update parkingSpaces list to increase by 1 (meaning add to the parkingSpaces list)\\n- Update tickets list to increase by 1 (meaning add to the tickets list)\\n\\nYou will need a few attributes as well:\\n- tickets -> list\\n- parkingSpaces -> list\\n- currentTicket -> dictionary\\n'"
      ]
     },
     "execution_count": 6,
     "metadata": {},
     "output_type": "execute_result"
    }
   ],
   "source": [
    "'''\n",
    "Coding Temple Moduel 2 Python 4 OOP HW assignment\n",
    "Author: Karan Patel\n",
    "'''\n",
    "\n",
    "'''\n",
    "Your parking garage class should have the following methods:\n",
    "- takeTicket\n",
    "- This should decrease the amount of tickets available by 1\n",
    "- This should decrease the amount of parkingSpaces available by 1\n",
    "- payForParking\n",
    "- Display an input that waits for an amount from the user and store it in a variable\n",
    "- If the payment variable is not empty then (meaning the ticket has been paid) -> display a message to the user that their ticket has been paid and they have 15mins to leave\n",
    "- This should update the \"currentTicket\" dictionary key \"paid\" to True\n",
    "-leaveGarage\n",
    "- If the ticket has been paid, display a message of \"Thank You, have a nice day\"\n",
    "- If the ticket has not been paid, display an input prompt for payment\n",
    "- Once paid, display message \"Thank you, have a nice day!\"\n",
    "- Update parkingSpaces list to increase by 1 (meaning add to the parkingSpaces list)\n",
    "- Update tickets list to increase by 1 (meaning add to the tickets list)\n",
    "\n",
    "You will need a few attributes as well:\n",
    "- tickets -> list\n",
    "- parkingSpaces -> list\n",
    "- currentTicket -> dictionary\n",
    "'''\n"
   ]
  },
  {
   "cell_type": "code",
   "execution_count": 11,
   "id": "e6d16514",
   "metadata": {},
   "outputs": [],
   "source": [
    "class ParkingGarage():\n",
    "    \n",
    "    def __init__(self,tickets = [100], parkingSpaces = [100], currentTicket = {'paid': False}):\n",
    "        self.tickets = tickets #list 100 tickets\n",
    "        self.parkingSpaces = parkingSpaces # list 100 parking spaces\n",
    "        self.currentTicket = currentTicket # dictionary each key value pair for each ticket issued\n",
    "        \n",
    "    def takeTicket(self):\n",
    "        print('Here is your ticket Sir/Madam')\n",
    "        self.tickets[0] -= 1\n",
    "        self.parkingSpaces[0] -= 1\n",
    "        print(f\"Current Occupation: tickets left: {self.tickets} | parking spaces left: {self.parkingSpaces} | current Ticket: {self.currentTicket}\")\n",
    "\n",
    "    def payForParking(self):\n",
    "        prompt = input('Enter an amount to pay for the ticket...')\n",
    "        if prompt != '':\n",
    "            print(\"your ticket has been paid and you have 15 mins to leave\")\n",
    "            self.currentTicket['paid'] = True\n",
    "            print(f\"Current Occupation: tickets left: {self.tickets} | parking spaces left: {self.parkingSpaces} | current Ticket: {self.currentTicket}\")\n",
    "        else:\n",
    "            print('You must pay for the ticket or else we will call security')\n",
    "   \n",
    "    def leaveGarage(self):\n",
    "            print( \"Thank You, have a nice day\")\n",
    "            self.tickets[0] += 1\n",
    "            self.parkingSpaces[0] += 1\n",
    "            print(f\"Current Occupation: tickets left: {self.tickets} | parking spaces left: {self.parkingSpaces} | current Ticket: {self.currentTicket}\")\n",
    "          \n",
    "                                 \n",
    "garage = ParkingGarage()"
   ]
  },
  {
   "cell_type": "code",
   "execution_count": 12,
   "id": "d2b18a03",
   "metadata": {},
   "outputs": [
    {
     "name": "stdout",
     "output_type": "stream",
     "text": [
      "What action are you taking? \n",
      " (Entering) \n",
      "(Paying) \n",
      "(Leaving) \n",
      "(Exit) - exit the program entering\n",
      "Here is your ticket Sir/Madam\n",
      "Current Occupation: tickets left: [99] | parking spaces left: [99] | current Ticket: {'paid': False}\n",
      "What action are you taking? \n",
      " (Entering) \n",
      "(Paying) \n",
      "(Leaving) \n",
      "(Exit) - exit the program paying\n",
      "Enter an amount to pay for the ticket...6$\n",
      "your ticket has been paid and you have 15 mins to leave\n",
      "Current Occupation: tickets left: [99] | parking spaces left: [99] | current Ticket: {'paid': True}\n",
      "What action are you taking? \n",
      " (Entering) \n",
      "(Paying) \n",
      "(Leaving) \n",
      "(Exit) - exit the program leaving\n",
      "Thank You, have a nice day\n",
      "Current Occupation: tickets left: [100] | parking spaces left: [100] | current Ticket: {'paid': True}\n"
     ]
    }
   ],
   "source": [
    "flag = True\n",
    "while flag:\n",
    "    response = input(\"What action are you taking? \\n (Entering) \\n(Paying) \\n(Leaving) \\n(Exit) - exit the program \")\n",
    "    if response.lower() == 'exit':\n",
    "        flag = False\n",
    "    elif response.lower() == 'entering':\n",
    "        garage.takeTicket()\n",
    "    elif response.lower() == 'paying':\n",
    "        garage.payForParking()\n",
    "    elif response.lower() == 'leaving':\n",
    "        garage.leaveGarage()\n",
    "        flag = False\n",
    "    else:\n",
    "        print('Sorry i didnt understand... Please try again')"
   ]
  },
  {
   "cell_type": "code",
   "execution_count": null,
   "id": "802a5bb2",
   "metadata": {},
   "outputs": [],
   "source": []
  }
 ],
 "metadata": {
  "kernelspec": {
   "display_name": "Python 3 (ipykernel)",
   "language": "python",
   "name": "python3"
  },
  "language_info": {
   "codemirror_mode": {
    "name": "ipython",
    "version": 3
   },
   "file_extension": ".py",
   "mimetype": "text/x-python",
   "name": "python",
   "nbconvert_exporter": "python",
   "pygments_lexer": "ipython3",
   "version": "3.9.13"
  }
 },
 "nbformat": 4,
 "nbformat_minor": 5
}
